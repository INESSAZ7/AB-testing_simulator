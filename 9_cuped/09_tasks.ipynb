{
 "cells": [
  {
   "cell_type": "code",
   "execution_count": 51,
   "id": "ebbb6c12-28bb-42f7-9451-8d70de3460b0",
   "metadata": {},
   "outputs": [],
   "source": [
    "import os\n",
    "from datetime import datetime, timedelta\n",
    "import numpy as np\n",
    "import pandas as pd\n",
    "import matplotlib.pyplot as plt\n",
    "from tqdm.notebook import tqdm\n",
    "from scipy import stats"
   ]
  },
  {
   "cell_type": "code",
   "execution_count": 83,
   "id": "befefdec-3f35-4610-8fec-dbaf15ebae3b",
   "metadata": {},
   "outputs": [],
   "source": [
    "plt.rcParams['legend.markerscale'] = 1.5\n",
    "plt.rcParams['legend.handletextpad'] = 0.5\n",
    "plt.rcParams['legend.labelspacing'] = 0.4\n",
    "plt.rcParams['legend.borderpad'] = 0.5\n",
    "plt.rcParams['font.size'] = 12\n",
    "plt.rcParams['font.serif'] = 'Times New Roman'\n",
    "plt.rcParams['axes.labelsize'] = 22\n",
    "plt.rcParams['axes.titlesize'] = 24\n",
    "plt.rcParams['figure.figsize'] = (10, 6)\n",
    "\n",
    "plt.rc('xtick', labelsize=18)\n",
    "plt.rc('ytick', labelsize=18)\n",
    "plt.rc('legend', fontsize=22)"
   ]
  },
  {
   "cell_type": "markdown",
   "id": "ee551bbe-6d38-4c69-b579-2884404d7377",
   "metadata": {},
   "source": [
    "### Task 1. AB-test with CUPED\n",
    "\n",
    "- Метрика — средняя выручка с клиента.\n",
    "- Ковариата - выручка пользователей за 4 недели до эксперимента.\n",
    "- Даты эксперимента - с 2022-04-25 по 2022-05-02."
   ]
  },
  {
   "cell_type": "code",
   "execution_count": 84,
   "id": "8dca680d-e946-4a87-8562-82d3ef6b63bd",
   "metadata": {},
   "outputs": [
    {
     "data": {
      "text/html": [
       "<div>\n",
       "<style scoped>\n",
       "    .dataframe tbody tr th:only-of-type {\n",
       "        vertical-align: middle;\n",
       "    }\n",
       "\n",
       "    .dataframe tbody tr th {\n",
       "        vertical-align: top;\n",
       "    }\n",
       "\n",
       "    .dataframe thead th {\n",
       "        text-align: right;\n",
       "    }\n",
       "</style>\n",
       "<table border=\"1\" class=\"dataframe\">\n",
       "  <thead>\n",
       "    <tr style=\"text-align: right;\">\n",
       "      <th></th>\n",
       "      <th>user_id</th>\n",
       "      <th>pilot</th>\n",
       "    </tr>\n",
       "  </thead>\n",
       "  <tbody>\n",
       "    <tr>\n",
       "      <th>0</th>\n",
       "      <td>a9a6e8</td>\n",
       "      <td>0</td>\n",
       "    </tr>\n",
       "    <tr>\n",
       "      <th>1</th>\n",
       "      <td>23420a</td>\n",
       "      <td>0</td>\n",
       "    </tr>\n",
       "    <tr>\n",
       "      <th>2</th>\n",
       "      <td>cbc468</td>\n",
       "      <td>0</td>\n",
       "    </tr>\n",
       "    <tr>\n",
       "      <th>3</th>\n",
       "      <td>583c90</td>\n",
       "      <td>0</td>\n",
       "    </tr>\n",
       "    <tr>\n",
       "      <th>4</th>\n",
       "      <td>19ce47</td>\n",
       "      <td>0</td>\n",
       "    </tr>\n",
       "  </tbody>\n",
       "</table>\n",
       "</div>"
      ],
      "text/plain": [
       "  user_id  pilot\n",
       "0  a9a6e8      0\n",
       "1  23420a      0\n",
       "2  cbc468      0\n",
       "3  583c90      0\n",
       "4  19ce47      0"
      ]
     },
     "execution_count": 84,
     "metadata": {},
     "output_type": "execute_result"
    }
   ],
   "source": [
    "df_users = pd.read_csv('../data/experiment_users_cuped.csv')\n",
    "df_sales = pd.read_csv('../data/2022-05-03T12_df_sales.csv')\n",
    "\n",
    "df_users.head()"
   ]
  },
  {
   "cell_type": "code",
   "execution_count": 85,
   "id": "ccdcc121-7ead-4f47-865d-316c79132adf",
   "metadata": {},
   "outputs": [
    {
     "data": {
      "text/html": [
       "<div>\n",
       "<style scoped>\n",
       "    .dataframe tbody tr th:only-of-type {\n",
       "        vertical-align: middle;\n",
       "    }\n",
       "\n",
       "    .dataframe tbody tr th {\n",
       "        vertical-align: top;\n",
       "    }\n",
       "\n",
       "    .dataframe thead th {\n",
       "        text-align: right;\n",
       "    }\n",
       "</style>\n",
       "<table border=\"1\" class=\"dataframe\">\n",
       "  <thead>\n",
       "    <tr style=\"text-align: right;\">\n",
       "      <th></th>\n",
       "      <th>sale_id</th>\n",
       "      <th>date</th>\n",
       "      <th>count_pizza</th>\n",
       "      <th>count_drink</th>\n",
       "      <th>price</th>\n",
       "      <th>user_id</th>\n",
       "    </tr>\n",
       "  </thead>\n",
       "  <tbody>\n",
       "    <tr>\n",
       "      <th>0</th>\n",
       "      <td>1000001</td>\n",
       "      <td>2022-02-04 10:00:24</td>\n",
       "      <td>1</td>\n",
       "      <td>0</td>\n",
       "      <td>720</td>\n",
       "      <td>1c1543</td>\n",
       "    </tr>\n",
       "    <tr>\n",
       "      <th>1</th>\n",
       "      <td>1000002</td>\n",
       "      <td>2022-02-04 10:02:28</td>\n",
       "      <td>1</td>\n",
       "      <td>1</td>\n",
       "      <td>930</td>\n",
       "      <td>a9a6e8</td>\n",
       "    </tr>\n",
       "    <tr>\n",
       "      <th>2</th>\n",
       "      <td>1000003</td>\n",
       "      <td>2022-02-04 10:02:35</td>\n",
       "      <td>3</td>\n",
       "      <td>1</td>\n",
       "      <td>1980</td>\n",
       "      <td>23420a</td>\n",
       "    </tr>\n",
       "    <tr>\n",
       "      <th>3</th>\n",
       "      <td>1000004</td>\n",
       "      <td>2022-02-04 10:03:06</td>\n",
       "      <td>1</td>\n",
       "      <td>1</td>\n",
       "      <td>750</td>\n",
       "      <td>3e8ed5</td>\n",
       "    </tr>\n",
       "    <tr>\n",
       "      <th>4</th>\n",
       "      <td>1000005</td>\n",
       "      <td>2022-02-04 10:03:23</td>\n",
       "      <td>1</td>\n",
       "      <td>1</td>\n",
       "      <td>870</td>\n",
       "      <td>cbc468</td>\n",
       "    </tr>\n",
       "    <tr>\n",
       "      <th>5</th>\n",
       "      <td>1000006</td>\n",
       "      <td>2022-02-04 10:04:55</td>\n",
       "      <td>3</td>\n",
       "      <td>2</td>\n",
       "      <td>2400</td>\n",
       "      <td>583c90</td>\n",
       "    </tr>\n",
       "    <tr>\n",
       "      <th>6</th>\n",
       "      <td>1000007</td>\n",
       "      <td>2022-02-04 10:05:14</td>\n",
       "      <td>1</td>\n",
       "      <td>0</td>\n",
       "      <td>720</td>\n",
       "      <td>e3876e</td>\n",
       "    </tr>\n",
       "    <tr>\n",
       "      <th>7</th>\n",
       "      <td>1000008</td>\n",
       "      <td>2022-02-04 10:05:28</td>\n",
       "      <td>1</td>\n",
       "      <td>0</td>\n",
       "      <td>540</td>\n",
       "      <td>ee3fcb</td>\n",
       "    </tr>\n",
       "    <tr>\n",
       "      <th>8</th>\n",
       "      <td>1000009</td>\n",
       "      <td>2022-02-04 10:10:29</td>\n",
       "      <td>2</td>\n",
       "      <td>0</td>\n",
       "      <td>1560</td>\n",
       "      <td>67ee0e</td>\n",
       "    </tr>\n",
       "    <tr>\n",
       "      <th>9</th>\n",
       "      <td>1000010</td>\n",
       "      <td>2022-02-04 10:10:33</td>\n",
       "      <td>4</td>\n",
       "      <td>1</td>\n",
       "      <td>2730</td>\n",
       "      <td>19ce47</td>\n",
       "    </tr>\n",
       "  </tbody>\n",
       "</table>\n",
       "</div>"
      ],
      "text/plain": [
       "   sale_id                date  count_pizza  count_drink  price user_id\n",
       "0  1000001 2022-02-04 10:00:24            1            0    720  1c1543\n",
       "1  1000002 2022-02-04 10:02:28            1            1    930  a9a6e8\n",
       "2  1000003 2022-02-04 10:02:35            3            1   1980  23420a\n",
       "3  1000004 2022-02-04 10:03:06            1            1    750  3e8ed5\n",
       "4  1000005 2022-02-04 10:03:23            1            1    870  cbc468\n",
       "5  1000006 2022-02-04 10:04:55            3            2   2400  583c90\n",
       "6  1000007 2022-02-04 10:05:14            1            0    720  e3876e\n",
       "7  1000008 2022-02-04 10:05:28            1            0    540  ee3fcb\n",
       "8  1000009 2022-02-04 10:10:29            2            0   1560  67ee0e\n",
       "9  1000010 2022-02-04 10:10:33            4            1   2730  19ce47"
      ]
     },
     "execution_count": 85,
     "metadata": {},
     "output_type": "execute_result"
    }
   ],
   "source": [
    "df_sales['date'] = pd.to_datetime(df_sales['date'])\n",
    "df_sales.head(10)"
   ]
  },
  {
   "cell_type": "code",
   "execution_count": 86,
   "id": "7ec3fcd5-0cfa-43f6-94b5-aa519f3af57a",
   "metadata": {},
   "outputs": [
    {
     "name": "stdout",
     "output_type": "stream",
     "text": [
      "2022-05-02 00:00:00\n"
     ]
    }
   ],
   "source": [
    "start_exp_dt = datetime(2022, 4, 25)\n",
    "end_exp_dt = start_exp_dt + timedelta(days=7)\n",
    "print(end_exp_dt)"
   ]
  },
  {
   "cell_type": "code",
   "execution_count": 87,
   "id": "9c852fa2-01fe-4c2d-a4ed-a25d31f5e421",
   "metadata": {},
   "outputs": [],
   "source": [
    "df_metrics = (\n",
    "    df_sales\n",
    "    [(df_sales['date'] >= start_exp_dt) & (df_sales['date'] < end_exp_dt)]\n",
    "    .groupby('user_id')[['price']].sum()\n",
    "    .rename(columns={'price': 'metric'})\n",
    ")"
   ]
  },
  {
   "cell_type": "code",
   "execution_count": 88,
   "id": "29b4945f-3318-4be7-9da9-f0bd7edfea15",
   "metadata": {},
   "outputs": [
    {
     "data": {
      "text/html": [
       "<div>\n",
       "<style scoped>\n",
       "    .dataframe tbody tr th:only-of-type {\n",
       "        vertical-align: middle;\n",
       "    }\n",
       "\n",
       "    .dataframe tbody tr th {\n",
       "        vertical-align: top;\n",
       "    }\n",
       "\n",
       "    .dataframe thead th {\n",
       "        text-align: right;\n",
       "    }\n",
       "</style>\n",
       "<table border=\"1\" class=\"dataframe\">\n",
       "  <thead>\n",
       "    <tr style=\"text-align: right;\">\n",
       "      <th></th>\n",
       "      <th>metric</th>\n",
       "    </tr>\n",
       "    <tr>\n",
       "      <th>user_id</th>\n",
       "      <th></th>\n",
       "    </tr>\n",
       "  </thead>\n",
       "  <tbody>\n",
       "    <tr>\n",
       "      <th>0000e4</th>\n",
       "      <td>840</td>\n",
       "    </tr>\n",
       "    <tr>\n",
       "      <th>000112</th>\n",
       "      <td>1380</td>\n",
       "    </tr>\n",
       "    <tr>\n",
       "      <th>0001ff</th>\n",
       "      <td>720</td>\n",
       "    </tr>\n",
       "    <tr>\n",
       "      <th>00045f</th>\n",
       "      <td>720</td>\n",
       "    </tr>\n",
       "    <tr>\n",
       "      <th>000470</th>\n",
       "      <td>2280</td>\n",
       "    </tr>\n",
       "  </tbody>\n",
       "</table>\n",
       "</div>"
      ],
      "text/plain": [
       "         metric\n",
       "user_id        \n",
       "0000e4      840\n",
       "000112     1380\n",
       "0001ff      720\n",
       "00045f      720\n",
       "000470     2280"
      ]
     },
     "execution_count": 88,
     "metadata": {},
     "output_type": "execute_result"
    }
   ],
   "source": [
    "df_metrics.head()"
   ]
  },
  {
   "cell_type": "code",
   "execution_count": 89,
   "id": "875e8ac3-de38-42c2-8064-527b81c66825",
   "metadata": {},
   "outputs": [
    {
     "name": "stdout",
     "output_type": "stream",
     "text": [
      "2022-03-28 00:00:00\n"
     ]
    }
   ],
   "source": [
    "start_cov_dt = start_exp_dt - timedelta(days=28)\n",
    "print(start_cov_dt)"
   ]
  },
  {
   "cell_type": "code",
   "execution_count": 90,
   "id": "c1f81fd9-392a-4795-b095-01a7a3bb2975",
   "metadata": {},
   "outputs": [
    {
     "name": "stdout",
     "output_type": "stream",
     "text": [
      "Size: 79808\n"
     ]
    },
    {
     "data": {
      "text/html": [
       "<div>\n",
       "<style scoped>\n",
       "    .dataframe tbody tr th:only-of-type {\n",
       "        vertical-align: middle;\n",
       "    }\n",
       "\n",
       "    .dataframe tbody tr th {\n",
       "        vertical-align: top;\n",
       "    }\n",
       "\n",
       "    .dataframe thead th {\n",
       "        text-align: right;\n",
       "    }\n",
       "</style>\n",
       "<table border=\"1\" class=\"dataframe\">\n",
       "  <thead>\n",
       "    <tr style=\"text-align: right;\">\n",
       "      <th></th>\n",
       "      <th>cov_4week</th>\n",
       "    </tr>\n",
       "    <tr>\n",
       "      <th>user_id</th>\n",
       "      <th></th>\n",
       "    </tr>\n",
       "  </thead>\n",
       "  <tbody>\n",
       "    <tr>\n",
       "      <th>0000d4</th>\n",
       "      <td>720</td>\n",
       "    </tr>\n",
       "    <tr>\n",
       "      <th>0000de</th>\n",
       "      <td>1320</td>\n",
       "    </tr>\n",
       "    <tr>\n",
       "      <th>0000e7</th>\n",
       "      <td>3840</td>\n",
       "    </tr>\n",
       "    <tr>\n",
       "      <th>000152</th>\n",
       "      <td>780</td>\n",
       "    </tr>\n",
       "    <tr>\n",
       "      <th>0001ff</th>\n",
       "      <td>720</td>\n",
       "    </tr>\n",
       "  </tbody>\n",
       "</table>\n",
       "</div>"
      ],
      "text/plain": [
       "         cov_4week\n",
       "user_id           \n",
       "0000d4         720\n",
       "0000de        1320\n",
       "0000e7        3840\n",
       "000152         780\n",
       "0001ff         720"
      ]
     },
     "execution_count": 90,
     "metadata": {},
     "output_type": "execute_result"
    }
   ],
   "source": [
    "df_cov = (\n",
    "    df_sales\n",
    "    [(df_sales['date'] >= start_cov_dt) & (df_sales['date'] < start_exp_dt)]\n",
    "    .groupby('user_id')[['price']].sum()\n",
    "    .rename(columns={'price': 'cov_4week'})\n",
    ")\n",
    "print(f'Size:', df_cov.shape[0])\n",
    "df_cov.head()"
   ]
  },
  {
   "cell_type": "code",
   "execution_count": 91,
   "id": "e883cd15-25d6-41b1-b172-803d977dc295",
   "metadata": {},
   "outputs": [
    {
     "name": "stdout",
     "output_type": "stream",
     "text": [
      "Size: 109367\n"
     ]
    },
    {
     "data": {
      "text/html": [
       "<div>\n",
       "<style scoped>\n",
       "    .dataframe tbody tr th:only-of-type {\n",
       "        vertical-align: middle;\n",
       "    }\n",
       "\n",
       "    .dataframe tbody tr th {\n",
       "        vertical-align: top;\n",
       "    }\n",
       "\n",
       "    .dataframe thead th {\n",
       "        text-align: right;\n",
       "    }\n",
       "</style>\n",
       "<table border=\"1\" class=\"dataframe\">\n",
       "  <thead>\n",
       "    <tr style=\"text-align: right;\">\n",
       "      <th></th>\n",
       "      <th>user_id</th>\n",
       "      <th>pilot</th>\n",
       "      <th>metric</th>\n",
       "      <th>cov_4week</th>\n",
       "    </tr>\n",
       "  </thead>\n",
       "  <tbody>\n",
       "    <tr>\n",
       "      <th>0</th>\n",
       "      <td>a9a6e8</td>\n",
       "      <td>0</td>\n",
       "      <td>930.0</td>\n",
       "      <td>900.0</td>\n",
       "    </tr>\n",
       "    <tr>\n",
       "      <th>1</th>\n",
       "      <td>23420a</td>\n",
       "      <td>0</td>\n",
       "      <td>NaN</td>\n",
       "      <td>NaN</td>\n",
       "    </tr>\n",
       "    <tr>\n",
       "      <th>2</th>\n",
       "      <td>cbc468</td>\n",
       "      <td>0</td>\n",
       "      <td>NaN</td>\n",
       "      <td>NaN</td>\n",
       "    </tr>\n",
       "    <tr>\n",
       "      <th>3</th>\n",
       "      <td>583c90</td>\n",
       "      <td>0</td>\n",
       "      <td>2490.0</td>\n",
       "      <td>7350.0</td>\n",
       "    </tr>\n",
       "    <tr>\n",
       "      <th>4</th>\n",
       "      <td>19ce47</td>\n",
       "      <td>0</td>\n",
       "      <td>NaN</td>\n",
       "      <td>NaN</td>\n",
       "    </tr>\n",
       "  </tbody>\n",
       "</table>\n",
       "</div>"
      ],
      "text/plain": [
       "  user_id  pilot  metric  cov_4week\n",
       "0  a9a6e8      0   930.0      900.0\n",
       "1  23420a      0     NaN        NaN\n",
       "2  cbc468      0     NaN        NaN\n",
       "3  583c90      0  2490.0     7350.0\n",
       "4  19ce47      0     NaN        NaN"
      ]
     },
     "execution_count": 91,
     "metadata": {},
     "output_type": "execute_result"
    }
   ],
   "source": [
    "df_data = pd.merge(\n",
    "    df_users,\n",
    "    df_metrics.reset_index(),\n",
    "    on='user_id',\n",
    "    how='left'\n",
    ")\n",
    "\n",
    "\n",
    "\n",
    "\n",
    "df_exp = pd.merge(\n",
    "    df_data, \n",
    "    df_cov.reset_index(), \n",
    "    on='user_id',\n",
    "    how='left'\n",
    ")\n",
    "print(f'Size:', df_exp.shape[0])\n",
    "df_exp.head()"
   ]
  },
  {
   "cell_type": "code",
   "execution_count": 92,
   "id": "bfd163df-cb88-4665-87c9-7718f1f3db9b",
   "metadata": {},
   "outputs": [
    {
     "data": {
      "text/plain": [
       "user_id      0.000000\n",
       "pilot        0.000000\n",
       "metric       0.744448\n",
       "cov_4week    0.270273\n",
       "dtype: float64"
      ]
     },
     "execution_count": 92,
     "metadata": {},
     "output_type": "execute_result"
    }
   ],
   "source": [
    "df_exp.isnull().mean()"
   ]
  },
  {
   "cell_type": "code",
   "execution_count": 93,
   "id": "7b564d42-d0a1-4e95-9de8-40dd32a6aead",
   "metadata": {},
   "outputs": [],
   "source": [
    "df_exp.fillna(0, inplace=True)"
   ]
  },
  {
   "cell_type": "code",
   "execution_count": 94,
   "id": "986e6293-3211-4da5-bad2-ae66ffae7241",
   "metadata": {},
   "outputs": [
    {
     "data": {
      "text/html": [
       "<div>\n",
       "<style scoped>\n",
       "    .dataframe tbody tr th:only-of-type {\n",
       "        vertical-align: middle;\n",
       "    }\n",
       "\n",
       "    .dataframe tbody tr th {\n",
       "        vertical-align: top;\n",
       "    }\n",
       "\n",
       "    .dataframe thead th {\n",
       "        text-align: right;\n",
       "    }\n",
       "</style>\n",
       "<table border=\"1\" class=\"dataframe\">\n",
       "  <thead>\n",
       "    <tr style=\"text-align: right;\">\n",
       "      <th></th>\n",
       "      <th>metric</th>\n",
       "      <th>cov_4week</th>\n",
       "    </tr>\n",
       "  </thead>\n",
       "  <tbody>\n",
       "    <tr>\n",
       "      <th>metric</th>\n",
       "      <td>1.00000</td>\n",
       "      <td>0.17654</td>\n",
       "    </tr>\n",
       "    <tr>\n",
       "      <th>cov_4week</th>\n",
       "      <td>0.17654</td>\n",
       "      <td>1.00000</td>\n",
       "    </tr>\n",
       "  </tbody>\n",
       "</table>\n",
       "</div>"
      ],
      "text/plain": [
       "            metric  cov_4week\n",
       "metric     1.00000    0.17654\n",
       "cov_4week  0.17654    1.00000"
      ]
     },
     "execution_count": 94,
     "metadata": {},
     "output_type": "execute_result"
    }
   ],
   "source": [
    "df_exp[['metric', 'cov_4week']].corr()"
   ]
  },
  {
   "cell_type": "code",
   "execution_count": 95,
   "id": "94da4e07-7e2c-4aa0-97f5-e6c0c6786313",
   "metadata": {},
   "outputs": [
    {
     "data": {
      "text/plain": [
       "pilot\n",
       "0    54736\n",
       "1    54631\n",
       "Name: count, dtype: int64"
      ]
     },
     "execution_count": 95,
     "metadata": {},
     "output_type": "execute_result"
    }
   ],
   "source": [
    "df_exp['pilot'].value_counts()"
   ]
  },
  {
   "cell_type": "code",
   "execution_count": 96,
   "id": "44c9c5ab-ddea-4dbb-90ae-86530a8693c8",
   "metadata": {},
   "outputs": [],
   "source": [
    "def calculate_theta(y_control, y_pilot, x_control, x_pilot):\n",
    "    \"\"\"Вычисляем Theta по данным двух групп.\n",
    "\n",
    "    y_control - значения метрики во время пилота на контрольной группе\n",
    "    y_pilot - значения метрики во время пилота на пилотной группе\n",
    "    x_control - значения ковариант на контрольной группе\n",
    "    x_pilot - значения ковариант на пилотной группе\n",
    "    \"\"\"\n",
    "    y = np.hstack([y_control, y_pilot])\n",
    "    x = np.hstack([x_control, x_pilot])\n",
    "    covariance = np.cov(x, y)[0,1]\n",
    "    var_x = np.var(x)\n",
    "    theta = covariance/var_x\n",
    "    return theta"
   ]
  },
  {
   "cell_type": "code",
   "execution_count": 97,
   "id": "7546cb23-d25c-444d-8b5b-a1ca32cf6ab1",
   "metadata": {},
   "outputs": [],
   "source": [
    "def check_cuped_test(df_control, df_pilot, covariate_column):\n",
    "    theta = calculate_theta(\n",
    "        df_control['metric'], df_pilot['metric'],\n",
    "        df_control[covariate_column], df_pilot[covariate_column]\n",
    "    )\n",
    "    metric_cuped_control = df_control['metric'] - theta*df_control[covariate_column]\n",
    "    metric_cuped_pilot = df_pilot['metric'] - theta*df_pilot[covariate_column]\n",
    "    _, pvalue = stats.ttest_ind(metric_cuped_control, metric_cuped_pilot)\n",
    "    return pvalue"
   ]
  },
  {
   "cell_type": "code",
   "execution_count": 105,
   "id": "70e67d42-b963-475f-8be2-23c63edf3f21",
   "metadata": {},
   "outputs": [
    {
     "name": "stdout",
     "output_type": "stream",
     "text": [
      "Result of test: 0.0539\n"
     ]
    }
   ],
   "source": [
    "df_pilot = df_exp[df_exp['pilot']==1]\n",
    "df_control = df_exp[df_exp['pilot']==0]\n",
    "\n",
    "pvalue = check_cuped_test(\n",
    "    df_control, \n",
    "    df_pilot,\n",
    "    'cov_4week'\n",
    "    )\n",
    "print(f\"Result of test: {pvalue:.4f}\")"
   ]
  },
  {
   "cell_type": "code",
   "execution_count": 99,
   "id": "723476d7-87a6-4349-92c1-5f1a96d7f085",
   "metadata": {},
   "outputs": [],
   "source": [
    "# df_check = pd.read_csv('../data/df_metrics_1000.csv')\n",
    "\n",
    "# check = pd.merge(\n",
    "#     df_check,\n",
    "#     df_exp,\n",
    "#     on='user_id',\n",
    "#     how='left'\n",
    "# )\n",
    "\n",
    "# check['diff'] = check['cov'] - check['cov_4week']\n",
    "# check[check['diff']>0]"
   ]
  },
  {
   "cell_type": "markdown",
   "id": "050bbf50-e530-43d4-9f17-cb8bf6d58be3",
   "metadata": {},
   "source": [
    "### Task 2. Функция вычисления CUPED-метрики"
   ]
  },
  {
   "cell_type": "code",
   "execution_count": 135,
   "id": "4b2815f4-df6c-44b2-909c-b40a14e0055e",
   "metadata": {},
   "outputs": [],
   "source": [
    "import numpy as np\n",
    "import pandas as pd\n",
    "\n",
    "\n",
    "def calculate_cuped_metric(df_metric, df_cov):\n",
    "    \"\"\"Считает значения cuped-метрики.\n",
    "\n",
    "    :param df_metric (pd.DataFrame): таблица со значениями метрики во время эксперимента\n",
    "        со столбцами ['user_id', 'metric'].\n",
    "    :param df_cov (pd.DataFrame): таблица со значениями ковариаты\n",
    "        со столбцами ['user_id', 'cov'].\n",
    "    :return df: таблица со значениями cuped-метрики со столбцами ['user_id', 'metric'].\n",
    "    \"\"\"\n",
    "\n",
    "    df = pd.merge(df_metric, df_cov, on='user_id') \n",
    "    covariance = df[['metric', 'cov']].cov().iloc[0,1]\n",
    "    avg_cov = df['cov'].mean()\n",
    "    var_cov = df['cov'].var(ddof=0)\n",
    "    theta = covariance/var_cov\n",
    "    df['metric'] = df['metric'] - theta*(df['cov'] - avg_cov)\n",
    "\n",
    "    return df[['user_id', 'metric']]"
   ]
  },
  {
   "cell_type": "code",
   "execution_count": 136,
   "id": "045adf65-e414-41b5-98f0-1997c651331f",
   "metadata": {},
   "outputs": [
    {
     "data": {
      "text/html": [
       "<div>\n",
       "<style scoped>\n",
       "    .dataframe tbody tr th:only-of-type {\n",
       "        vertical-align: middle;\n",
       "    }\n",
       "\n",
       "    .dataframe tbody tr th {\n",
       "        vertical-align: top;\n",
       "    }\n",
       "\n",
       "    .dataframe thead th {\n",
       "        text-align: right;\n",
       "    }\n",
       "</style>\n",
       "<table border=\"1\" class=\"dataframe\">\n",
       "  <thead>\n",
       "    <tr style=\"text-align: right;\">\n",
       "      <th></th>\n",
       "      <th>user_id</th>\n",
       "      <th>metric</th>\n",
       "    </tr>\n",
       "  </thead>\n",
       "  <tbody>\n",
       "    <tr>\n",
       "      <th>0</th>\n",
       "      <td>1</td>\n",
       "      <td>2159.530387</td>\n",
       "    </tr>\n",
       "    <tr>\n",
       "      <th>1</th>\n",
       "      <td>2</td>\n",
       "      <td>2933.011050</td>\n",
       "    </tr>\n",
       "    <tr>\n",
       "      <th>2</th>\n",
       "      <td>3</td>\n",
       "      <td>2407.458564</td>\n",
       "    </tr>\n",
       "  </tbody>\n",
       "</table>\n",
       "</div>"
      ],
      "text/plain": [
       "   user_id       metric\n",
       "0        1  2159.530387\n",
       "1        2  2933.011050\n",
       "2        3  2407.458564"
      ]
     },
     "execution_count": 136,
     "metadata": {},
     "output_type": "execute_result"
    }
   ],
   "source": [
    "df_metric = pd.DataFrame({'user_id': [1, 2, 3], 'metric': [2000, 2500, 3000]})\n",
    "df_cov = pd.DataFrame({'user_id': [1, 2, 3], 'cov': [1100, 1500, 0]})\n",
    "df = calculate_cuped_metric(df_metric, df_cov)\n",
    "df\n",
    "# df = pd.DataFrame({'user_id': [1, 2, 3], 'metric': [2159.53, 2933.01, 2407.46]})"
   ]
  }
 ],
 "metadata": {
  "kernelspec": {
   "display_name": "Python 3 (ipykernel)",
   "language": "python",
   "name": "python3"
  },
  "language_info": {
   "codemirror_mode": {
    "name": "ipython",
    "version": 3
   },
   "file_extension": ".py",
   "mimetype": "text/x-python",
   "name": "python",
   "nbconvert_exporter": "python",
   "pygments_lexer": "ipython3",
   "version": "3.12.6"
  }
 },
 "nbformat": 4,
 "nbformat_minor": 5
}
